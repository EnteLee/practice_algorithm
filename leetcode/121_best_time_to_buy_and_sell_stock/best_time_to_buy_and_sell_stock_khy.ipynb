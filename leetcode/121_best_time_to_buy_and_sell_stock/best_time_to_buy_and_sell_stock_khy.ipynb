{
 "cells": [
  {
   "cell_type": "code",
   "execution_count": 34,
   "metadata": {},
   "outputs": [],
   "source": [
    "class Solution:\n",
    "    def maxProfit(self, prices):\n",
    "        \"\"\"\n",
    "        :type prices: List[int]\n",
    "        :rtype: int\n",
    "        \"\"\"\n",
    "        pl = len(prices)\n",
    "        \n",
    "        if pl == 0:\n",
    "            return 0\n",
    "\n",
    "        \n",
    "        minpr = max(prices)\n",
    "        maxpr = 0\n",
    "        out = 0\n",
    "\n",
    "        for i in prices:\n",
    "            minpr = min(minpr, i)\n",
    "            out = i - minpr\n",
    "            maxpr = max(out, maxpr)\n",
    "            print(minpr, i,  out, maxpr)\n",
    "                \n",
    "        return maxpr"
   ]
  },
  {
   "cell_type": "code",
   "execution_count": null,
   "metadata": {},
   "outputs": [],
   "source": []
  }
 ],
 "metadata": {
  "kernelspec": {
   "display_name": "Python 3",
   "language": "python",
   "name": "python3"
  },
  "language_info": {
   "codemirror_mode": {
    "name": "ipython",
    "version": 3
   },
   "file_extension": ".py",
   "mimetype": "text/x-python",
   "name": "python",
   "nbconvert_exporter": "python",
   "pygments_lexer": "ipython3",
   "version": "3.7.0"
  }
 },
 "nbformat": 4,
 "nbformat_minor": 2
}
