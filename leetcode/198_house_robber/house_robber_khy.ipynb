{
 "cells": [
  {
   "cell_type": "code",
   "execution_count": null,
   "metadata": {},
   "outputs": [],
   "source": [
    "class Solution:\n",
    "    def rob(self, nums):\n",
    "        \"\"\"\n",
    "        :type nums: List[int]\n",
    "        :rtype: int\n",
    "        \"\"\"\n",
    "        numlist = [0, 0]\n",
    "        sums = 0\n",
    "        \n",
    "        for i in range(len(nums)):\n",
    "            \n",
    "            if i == 0 :\n",
    "                numlist.append(nums[i])\n",
    "                \n",
    "            else: \n",
    "                sums = max(nums[i]+numlist[i], numlist[i+1])\n",
    "                numlist.append(sums)\n",
    "            \n",
    "        return max(numlist)"
   ]
  }
 ],
 "metadata": {
  "kernelspec": {
   "display_name": "Python 3",
   "language": "python",
   "name": "python3"
  },
  "language_info": {
   "codemirror_mode": {
    "name": "ipython",
    "version": 3
   },
   "file_extension": ".py",
   "mimetype": "text/x-python",
   "name": "python",
   "nbconvert_exporter": "python",
   "pygments_lexer": "ipython3",
   "version": "3.7.0"
  }
 },
 "nbformat": 4,
 "nbformat_minor": 2
}
