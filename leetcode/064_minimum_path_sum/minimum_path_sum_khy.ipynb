{
 "cells": [
  {
   "cell_type": "code",
   "execution_count": null,
   "metadata": {},
   "outputs": [],
   "source": [
    "class Solution:\n",
    "    def minPathSum(self, grid):\n",
    "        \"\"\"\n",
    "        :type grid: List[List[int]]\n",
    "        :rtype: int\n",
    "        \"\"\"\n",
    "    \n",
    "        \n",
    "        start = 0\n",
    "        lr, lc = len(grid), len((grid)[0])\n",
    "        newarr = []   \n",
    "        temparr = []\n",
    "        \n",
    "        \n",
    "        for c in range(lc):\n",
    "            \n",
    "            start += grid[0][c]\n",
    "            newarr.append(start)\n",
    "            \n",
    "        if lr == 1:\n",
    "            return newarr[-1]\n",
    "        \n",
    "        else:\n",
    "            \n",
    "            for r in range(1, lr):\n",
    "                temparr.append(newarr[0])\n",
    "                for c in range(lc):\n",
    "\n",
    "                    start = min(grid[r][c]+ newarr[c], temparr[c]+grid[r][c])\n",
    "                    temparr.append(start)\n",
    "\n",
    "                newarr = temparr[1:]\n",
    "                temparr = []\n",
    "\n",
    "            return newarr[-1]\n",
    "                "
   ]
  }
 ],
 "metadata": {
  "kernelspec": {
   "display_name": "Python 3",
   "language": "python",
   "name": "python3"
  },
  "language_info": {
   "codemirror_mode": {
    "name": "ipython",
    "version": 3
   },
   "file_extension": ".py",
   "mimetype": "text/x-python",
   "name": "python",
   "nbconvert_exporter": "python",
   "pygments_lexer": "ipython3",
   "version": "3.7.0"
  }
 },
 "nbformat": 4,
 "nbformat_minor": 2
}
