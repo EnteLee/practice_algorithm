{
 "cells": [
  {
   "cell_type": "code",
   "execution_count": 42,
   "metadata": {},
   "outputs": [
    {
     "name": "stdout",
     "output_type": "stream",
     "text": [
      "387 49 [2, 3, 5, 7, 11, 13, 17, 19, 23, 29, 31, 37, 41, 43, 47, 53, 59, 61, 67, 71, 73, 79, 83, 89, 97, 101, 103, 107, 109, 113, 127, 131, 137, 139, 149, 151, 157, 163, 167, 173, 179, 181, 191, 193, 197, 199, 211, 223, 227, 229, 233, 239, 241, 251, 257, 263, 269, 271, 277, 281, 283, 293, 307, 311, 313, 317, 331, 337, 347, 349, 353, 359, 367, 373, 379, 383]\n"
     ]
    }
   ],
   "source": [
    "class Solution:\n",
    "    def minSteps(self, n):\n",
    "        \"\"\"\n",
    "        :type n: int\n",
    "        :rtype: int\n",
    "        \"\"\"\n",
    "        \n",
    "        dp = [] \n",
    "        prime_num = [] #소수 수열\n",
    "\n",
    "        for i in range(1, n+1):\n",
    "            \n",
    "            #기본셋팅(인덱스 오류 방지를 위해 n이 1, 2일 경우를 셋팅)\n",
    "            if i == 1:\n",
    "                out = 0\n",
    "                dp.append(out)\n",
    "\n",
    "            elif i == 2:\n",
    "                out = 2\n",
    "                dp.append(out)\n",
    "                prime_num.append(2)\n",
    "\n",
    "            else:\n",
    "                quotient = 0\n",
    "                \n",
    "                #소수가 아닐 경우\n",
    "                for p in prime_num:\n",
    "                    if i % p == 0:\n",
    "                        quotient = i//p\n",
    "                        out = dp[quotient-1]+p                                \n",
    "                        dp.append(out)\n",
    "                        break\n",
    "                    else:\n",
    "                        pass\n",
    "                    \n",
    "                #소수일 경우\n",
    "                if quotient == 0 :\n",
    "                    out = i\n",
    "                    dp.append(out)\n",
    "                    prime_num.append(out)\n",
    "                        \n",
    "                \n",
    "                \n",
    "        return dp[-1]"
   ]
  },
  {
   "cell_type": "code",
   "execution_count": 44,
   "metadata": {},
   "outputs": [
    {
     "data": {
      "text/plain": [
       "'650.2_keys_keyboard'"
      ]
     },
     "execution_count": 44,
     "metadata": {},
     "output_type": "execute_result"
    }
   ],
   "source": [
    "a = \"650.2 Keys Keyboard\"\n",
    "a = a.lower()\n",
    "a.replace(\" \", \"_\")"
   ]
  },
  {
   "cell_type": "code",
   "execution_count": null,
   "metadata": {},
   "outputs": [],
   "source": []
  }
 ],
 "metadata": {
  "kernelspec": {
   "display_name": "Python 3",
   "language": "python",
   "name": "python3"
  },
  "language_info": {
   "codemirror_mode": {
    "name": "ipython",
    "version": 3
   },
   "file_extension": ".py",
   "mimetype": "text/x-python",
   "name": "python",
   "nbconvert_exporter": "python",
   "pygments_lexer": "ipython3",
   "version": "3.7.0"
  }
 },
 "nbformat": 4,
 "nbformat_minor": 2
}
