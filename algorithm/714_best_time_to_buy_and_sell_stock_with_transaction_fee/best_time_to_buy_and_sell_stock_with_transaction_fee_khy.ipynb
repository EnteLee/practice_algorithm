{
 "cells": [
  {
   "cell_type": "code",
   "execution_count": 74,
   "metadata": {},
   "outputs": [],
   "source": [
    "class Solution:\n",
    "    def maxProfit(self, prices, fee):\n",
    "        \"\"\"\n",
    "        :type prices: List[int]\n",
    "        :type fee: int\n",
    "        :rtype: int\n",
    "        \"\"\"\n",
    "        \n",
    "        minpr = max(prices)\n",
    "        maxpr = 0\n",
    "        out = 0\n",
    "        out2 = 0\n",
    "\n",
    "        \n",
    "        for i in prices:\n",
    "\n",
    "            if i < minpr: #min값 지정\n",
    "                minpr = i\n",
    "            if i > maxpr: #max값 지정\n",
    "                maxpr = i\n",
    "\n",
    "            if  maxpr - i > fee: #값 초기화\n",
    "                if out > 0:\n",
    "                    out2 += out\n",
    "                minpr = i\n",
    "                maxpr = i  \n",
    "                out = 0\n",
    "\n",
    "            out = (maxpr - minpr - fee)\n",
    "\n",
    "\n",
    "        if out > 0 : #마지막 out값 받을지 결정\n",
    "            out2 += out\n",
    "        else:\n",
    "            pass\n",
    "\n",
    "        return out2"
   ]
  },
  {
   "cell_type": "code",
   "execution_count": 75,
   "metadata": {},
   "outputs": [
    {
     "data": {
      "text/plain": [
       "'best_time_to_buy_and_sell_stock_with_transaction_fee'"
      ]
     },
     "execution_count": 75,
     "metadata": {},
     "output_type": "execute_result"
    }
   ],
   "source": [
    "a = \"Best Time to Buy and Sell Stock with Transaction Fee\"\n",
    "a = a.lower()\n",
    "a.replace(\" \", \"_\")"
   ]
  },
  {
   "cell_type": "code",
   "execution_count": null,
   "metadata": {},
   "outputs": [],
   "source": []
  }
 ],
 "metadata": {
  "kernelspec": {
   "display_name": "Python 3",
   "language": "python",
   "name": "python3"
  },
  "language_info": {
   "codemirror_mode": {
    "name": "ipython",
    "version": 3
   },
   "file_extension": ".py",
   "mimetype": "text/x-python",
   "name": "python",
   "nbconvert_exporter": "python",
   "pygments_lexer": "ipython3",
   "version": "3.7.0"
  }
 },
 "nbformat": 4,
 "nbformat_minor": 2
}
