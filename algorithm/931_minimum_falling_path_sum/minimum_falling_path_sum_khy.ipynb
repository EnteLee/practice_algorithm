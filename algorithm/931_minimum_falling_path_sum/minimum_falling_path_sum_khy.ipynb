{
 "cells": [
  {
   "cell_type": "code",
   "execution_count": 31,
   "metadata": {},
   "outputs": [],
   "source": [
    "class Solution:\n",
    "    def minFallingPathSum(self, A):\n",
    "        \"\"\"\n",
    "        :type A: List[List[int]]\n",
    "        :rtype: int\n",
    "        \"\"\"\n",
    "        row = len(A)\n",
    "        col = len(A[0])\n",
    "        dp1, dp2 = A[0], [0]*col\n",
    "\n",
    "        for k in range(1, row):\n",
    "            dp1.insert(0, max(dp1))\n",
    "            for i in range(1, col+1):\n",
    "                temp = min(dp1[i-1:i+2])\n",
    "                dp2[i-1] = A[k][i-1]+temp\n",
    "            dp1 = dp2\n",
    "            dp2 = [0]*col\n",
    "\n",
    "        \n",
    "        return min(dp1)"
   ]
  },
  {
   "cell_type": "code",
   "execution_count": null,
   "metadata": {},
   "outputs": [],
   "source": []
  }
 ],
 "metadata": {
  "kernelspec": {
   "display_name": "Python 3",
   "language": "python",
   "name": "python3"
  },
  "language_info": {
   "codemirror_mode": {
    "name": "ipython",
    "version": 3
   },
   "file_extension": ".py",
   "mimetype": "text/x-python",
   "name": "python",
   "nbconvert_exporter": "python",
   "pygments_lexer": "ipython3",
   "version": "3.7.0"
  }
 },
 "nbformat": 4,
 "nbformat_minor": 2
}
